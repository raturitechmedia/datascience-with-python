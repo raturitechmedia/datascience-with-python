{
 "cells": [
  {
   "cell_type": "markdown",
   "source": [
    "This article originally appeared at [raturi.in]()."
   ],
   "metadata": {
    "collapsed": false
   }
  },
  {
   "cell_type": "markdown",
   "source": [
    "Title:\n",
    "Description:"
   ],
   "metadata": {
    "collapsed": false
   }
  },
  {
   "cell_type": "markdown",
   "source": [
    "Table of contents\n",
    "\n",
    "- [What is NumPy](#)\n",
    "    - [Difference between NumPy and List](#)\n",
    "    - [Why use NumPy: Computation time](#)\n",
    "- [Installing Numpy](#)\n",
    "- [Basics Operations of NumPy](#)\n",
    "    - [Array Creation](#)\n",
    "    - [Basic Operations](#)\n",
    "    - [Indexing, Slicing, Iterating](#)\n",
    "\n",
    "## What is NumPy\n",
    "<img alt=\"ndarry\" height=\"400\" src=\"./img/numpy-3.png\" title=\"Numpy Description\" width=\"600\"/>\n",
    "\n",
    "**[NumPy](https://numpy.org/), which stands for 'Numerical Python', is an [opensource](https://github.com/numpy/numpy) library that allows users to store large amounts of data using less memory and perform extensive operations (mathematical, logical, shape manipulation, sorting, selecting, I/O, discrete Fourier transforms, basic linear algebra, basic statistical operations, random simulation, etc) easily using homogenous, one-dimensional, and multidimensional arrays**.\n",
    "\n",
    "The basic data structure of NumPy is a [ndarray](https://numpy.org/doc/stable/reference/generated/numpy.ndarray.html?highlight=ndarray#numpy.ndarray), similar to a list.\n",
    "\n",
    "> 💡 An array in numpy is a data structure organized like a grid of rows and columns, containing values of same data type that can be indexed and manipulated efficiently as per the requirement of the problem.\n",
    "\n",
    "## Difference between NumPy and Python standard List\n",
    "Three most important differences between NumPy arrays and standard [Python sequences](https://docs.python.org/library/stdtypes.html#sequence-types-list-tuple-range) are:\n",
    "\n",
    "|                   | NumPy Array                            | Python Sequences (list, tuple, range) |\n",
    "|-------------------|----------------------------------------|---------------------------------------|\n",
    "| **Creation Size** | Fixed size                             | Python list can grow dynamically      |\n",
    "| **Datatype**      | Elements are of same datatype          | Elements can be of multiple datatypes |\n",
    "| **Speed**         | Fast as its partially written in [C](https://en.wikipedia.org/wiki/C_(programming_language)) | Slower compared to NumPy              |\n",
    "\n",
    "\n",
    "## Why use Numpy: Computation time\n",
    "\n",
    "A [python](https://raturi.in/blog/category/python-tutorials/) list can very well perform all the operations that NumPy arrays perform; it is simply a fact that NumPy arrays are faster and convenient when it comes to large complex computations.\n",
    "\n",
    "Let's add two matrix of 9 million elements each to see the computation time."
   ],
   "metadata": {
    "collapsed": false
   }
  },
  {
   "cell_type": "code",
   "execution_count": 27,
   "id": "41721ea0",
   "metadata": {},
   "outputs": [
    {
     "ename": "TypeError",
     "evalue": "'list' object is not callable",
     "output_type": "error",
     "traceback": [
      "\u001B[0;31m---------------------------------------------------------------------------\u001B[0m",
      "\u001B[0;31mTypeError\u001B[0m                                 Traceback (most recent call last)",
      "Cell \u001B[0;32mIn [27], line 9\u001B[0m\n\u001B[1;32m      6\u001B[0m list_B \u001B[38;5;241m=\u001B[39m [j\u001B[38;5;241m*\u001B[39m\u001B[38;5;241m*\u001B[39m\u001B[38;5;241m2\u001B[39m \u001B[38;5;28;01mfor\u001B[39;00m j \u001B[38;5;129;01min\u001B[39;00m \u001B[38;5;28mrange\u001B[39m(\u001B[38;5;241m1\u001B[39m,\u001B[38;5;241m9000000\u001B[39m)]\n\u001B[1;32m      8\u001B[0m t0 \u001B[38;5;241m=\u001B[39m time\u001B[38;5;241m.\u001B[39mtime()\n\u001B[0;32m----> 9\u001B[0m sum_list \u001B[38;5;241m=\u001B[39m \u001B[38;5;28;43mlist\u001B[39;49m\u001B[43m(\u001B[49m\u001B[38;5;28;43mmap\u001B[39;49m\u001B[43m(\u001B[49m\u001B[38;5;28;43;01mlambda\u001B[39;49;00m\u001B[43m \u001B[49m\u001B[43mx\u001B[49m\u001B[43m,\u001B[49m\u001B[43m \u001B[49m\u001B[43my\u001B[49m\u001B[43m:\u001B[49m\u001B[43m \u001B[49m\u001B[43mx\u001B[49m\u001B[38;5;241;43m+\u001B[39;49m\u001B[43my\u001B[49m\u001B[43m,\u001B[49m\u001B[43m \u001B[49m\u001B[43mlist_A\u001B[49m\u001B[43m,\u001B[49m\u001B[43m \u001B[49m\u001B[43mlist_B\u001B[49m\u001B[43m)\u001B[49m\u001B[43m)\u001B[49m\n\u001B[1;32m     10\u001B[0m t1 \u001B[38;5;241m=\u001B[39m time\u001B[38;5;241m.\u001B[39mtime()\n\u001B[1;32m     11\u001B[0m list_time \u001B[38;5;241m=\u001B[39m t1 \u001B[38;5;241m-\u001B[39m t0\n",
      "\u001B[0;31mTypeError\u001B[0m: 'list' object is not callable"
     ]
    }
   ],
   "source": [
    "import time\n",
    "import numpy as np\n",
    "\n",
    "# python standard list\n",
    "list_A = [i for i in range(1,9000000)]\n",
    "list_B = [j**2 for j in range(1,9000000)]\n",
    "\n",
    "t0 = time.time()\n",
    "sum_list = list(map(lambda x, y: x+y, list_A, list_B))\n",
    "t1 = time.time()\n",
    "list_time = t1 - t0\n",
    "print (\"Time taken by Python standard list is \",list_time)\n",
    "\n",
    "# numpy array\n",
    "array_A = np.arange(1,9000000)\n",
    "array_B = np.arange(1,9000000)\n",
    "\n",
    "t0 = time.time()\n",
    "sum_numpy =  array_A + array_B\n",
    "t1 = time.time()\n",
    "numpy_time = t1 - t0\n",
    "print (\"Time taken by NumPy array is \",numpy_time)\n",
    "\n",
    "print(\"The ratio of time taken is {}\".format(list_time//numpy_time))"
   ]
  },
  {
   "cell_type": "markdown",
   "source": [
    "You can notice that numpy is alot faster than the list. Below is a table to show difference between python standard list and numpy computation speed on different operations.\n",
    "\n",
    "\n",
    "| Size of each matrix | Type of operation  | Time taken by list | Time taken by numpy | Ratio (List Time / Numpy Time) |\n",
    "|---------------------|--------------------|--------------------|---------------------|--------------------------------|\n",
    "| 9 million           | Addition (+)       | 0.56s              | 0.017s              | 32.0                           |\n",
    "| 9 million           | Subtraction (-)    | 0.61s              | 0.016s              | 36.0                           |\n",
    "| 9 million           | Multiplication (*) | 0.69s              | 0.016s              | 42.0                           |\n",
    "| 9 million           | Division (/)       | 0.51s              | 0.022s              | 23.0                           |\n",
    "\n",
    "From the above table, we can conclude that numpy is alot faster than python standard list. In real word when the data is in billions and the operation are more complex than this ratio will be even bigger.\n",
    "\n",
    "## Installing NumPy\n",
    "\n",
    "To start working with numpy, you need to install it and you can't go wrong if you follow instructions from [numpy official website](https://numpy.org/install/).\n",
    "\n",
    "## Basics of Numpy\n",
    "As a prerequisites, you will need to know beginner level [python](https://raturi.in/blog/category/python-tutorials/). See this [Python tutorial](https://docs.python.org/tutorial/) for refreshing your concepts.\n",
    "\n",
    "<img alt=\"ndarry\" height=\"400\" src=\"./img/numpy-1.png\" title=\"Numpy Description\" width=\"600\"/>\n",
    "\n",
    "In the above image array is an object of [ndarray](https://numpy.org/doc/stable/reference/generated/numpy.ndarray.html?highlight=ndarray#numpy.ndarray) class of NumPy library.\n",
    "\n",
    "Whenever you work with a dataset, first step is to get an idea about the dataset array. Four important [attributes](https://numpy.org/doc/stable/reference/generated/numpy.ndarray.html#numpy-ndarray) of NumPy array to get information about the dataset are:\n",
    "\n",
    "- [.ndim](https://numpy.org/doc/stable/reference/generated/numpy.ndarray.ndim.html#numpy.ndarray.ndim): returns number(int) of dimensions (axis) of the array.\n",
    "- [.shape](https://numpy.org/doc/stable/reference/generated/numpy.shape.html#numpy.shape): returns a tuple of **n** rows and **m** column (n,m).\n",
    "- [.size](https://numpy.org/doc/stable/reference/generated/numpy.ndarray.size.html#numpy.ndarray.size): returns a number(int) of total elements in the array.\n",
    "- [.dtype](https://numpy.org/doc/stable/reference/generated/numpy.dtype.html#numpy.dtype): returns an object of **numpy.dtype** that describes the type of elements in the array.\n",
    "\n",
    "Below is a code snippet of the attributes described above.\n"
   ],
   "metadata": {
    "collapsed": false
   }
  },
  {
   "cell_type": "code",
   "execution_count": null,
   "outputs": [],
   "source": [
    "array = np.array([[1,2,3],[4,5,6]]) # Creating numpy array from list\n",
    "\n",
    "print(\"Dimension: \",array.ndim, type(array.ndim))\n",
    "print(\"Shape: \",array.shape, type(array.shape))\n",
    "print(\"Size: \",array.size, type(array.size))\n",
    "print(\"Datatype: \",array.dtype, type(array.dtype))\n",
    "print(\"Itemsize: \",array.itemsize, type(array.itemsize))\n",
    "print(\"Data: \",array.data, type(array.data))"
   ],
   "metadata": {
    "collapsed": false
   }
  },
  {
   "cell_type": "markdown",
   "source": [
    "### Array Creation\n",
    "<img alt=\"ndarry\" height=\"400\" src=\"./img/numpy-2.png\" title=\"Numpy Description\" width=\"600\"/>\n",
    "\n",
    "A numpy array is created by passing an array like data structure such as [python's](https://raturi.in/blog/category/python-tutorials/) list or a tuple.\n",
    "\n",
    "Let's create a 0-D, 1-D, 2-D, and a 3-D [array](https://numpy.org/devdocs/user/absolute_beginners.html#what-is-an-array) from a list.\n",
    "\n",
    "- 0-D array: ```np.array(11)```\n",
    "- 1-D array: ```np.array([1, 2, 3, 4, 5])```\n",
    "- 2-D array: ```np.array([[1, 2, 3], [4, 5, 6]])```\n",
    "- 3-D array: ```np.array([[[1, 2, 3], [4, 5, 6]], [[1, 2, 3], [4, 5, 6]]])```"
   ],
   "metadata": {
    "collapsed": false
   }
  },
  {
   "cell_type": "code",
   "execution_count": null,
   "outputs": [],
   "source": [
    "array_0D = np.array(11)\n",
    "array_1D = np.array([1, 2, 3, 4, 5])\n",
    "array_2D = np.array([[1, 2, 3], [4, 5, 6]])\n",
    "array_3D = np.array([[[1, 2, 3], [4, 5, 6]], [[1, 2, 3], [4, 5, 6]]])\n",
    "\n",
    "print(array_0D)\n",
    "print(array_1D)\n",
    "print(array_2D)\n",
    "print(array_3D)"
   ],
   "metadata": {
    "collapsed": false
   }
  },
  {
   "cell_type": "markdown",
   "source": [
    "Like python standard list, here are 7 ways to create a numpy array.\n",
    "\n",
    "- [.array(\\[1,2,3\\])](https://numpy.org/doc/stable/reference/generated/numpy.array.html): Returns array from list\n",
    "- [.array((1.1,2.2,3.3))](https://numpy.org/doc/stable/reference/generated/numpy.array.html): NumPy array from tuple\n",
    "- [.zeros((2,3))](https://numpy.org/doc/stable/reference/generated/numpy.zeros.html): Returns array filled with zeros (2 rows, 3 columns)\n",
    "- [.ones((2,3))](https://numpy.org/doc/stable/reference/generated/numpy.ones.html): NumPy array filled with ones (2 rows, 3 columns)\n",
    "- [.empty((2,4))](https://numpy.org/doc/stable/reference/generated/numpy.empty.html): Returns array of arbitary data of given shape and type\n",
    "- [.arange((2,10,2))](https://numpy.org/doc/stable/reference/generated/numpy.arange.html): Returns evenly spaced values within a given range. Similar to python [range()](https://docs.python.org/library/stdtypes.html?highlight=range#range)\n",
    "- [.linspace((2,4,9))](https://numpy.org/doc/stable/reference/generated/numpy.linspace.html): Return evenly spaced 9 numbers between 2 and 4"
   ],
   "metadata": {
    "collapsed": false
   }
  },
  {
   "cell_type": "code",
   "execution_count": null,
   "outputs": [],
   "source": [
    "array_list = np.array([1,2,3], dtype=int) # From List\n",
    "array_tuple = np.array((1.1,2.2,3.3)) # From Tuple\n",
    "array_zeroes = np.zeros((2,3)) # Array of zeroes: 2 rows and 3 columns\n",
    "array_ones = np.ones((2,3)) # Array of ones: 2 rows and 3 columns\n",
    "array_empty = np.empty((2,4)) # Array of zeroes: 2 rows and 3 columns\n",
    "array_arange = np.arange(2,10,2) # Similar to python range()\n",
    "array_linspace = np.linspace(2,4,9) # Array of 9 numbers between 2 and 4"
   ],
   "metadata": {
    "collapsed": false
   }
  },
  {
   "cell_type": "markdown",
   "source": [
    "Just like **dtype=int** paramater, you can make use of others parmeters like **copy**, **order**, **subok**, **ndim**, **like**. You can explore other numpy array [parameters](https://numpy.org/doc/stable/reference/generated/numpy.array.html#numpy-array).\n",
    "\n",
    "Let's practice some methods to create arrays\n",
    "\n",
    "> 💡 Tip: Use **help** to see syntax when required\n",
    "\n"
   ],
   "metadata": {
    "collapsed": false
   }
  },
  {
   "cell_type": "code",
   "execution_count": null,
   "outputs": [],
   "source": [
    "help(np.zeros)"
   ],
   "metadata": {
    "collapsed": false
   }
  },
  {
   "cell_type": "markdown",
   "source": [
    "Create a 1D array of ones"
   ],
   "metadata": {
    "collapsed": false
   }
  },
  {
   "cell_type": "code",
   "execution_count": null,
   "outputs": [],
   "source": [
    "arr = np.ones(9)\n",
    "print(arr)\n",
    "print(arr.dtype)"
   ],
   "metadata": {
    "collapsed": false
   }
  },
  {
   "cell_type": "markdown",
   "source": [
    "Notice that, by default, numpy creates data type of float64. Let's provide [dtype](https://numpy.org/doc/stable/reference/generated/numpy.ndarray.html) explicitly."
   ],
   "metadata": {
    "collapsed": false
   }
  },
  {
   "cell_type": "code",
   "execution_count": null,
   "outputs": [],
   "source": [
    "arr = np.ones(9, dtype=int)\n",
    "print(arr)\n",
    "print(arr.dtype)"
   ],
   "metadata": {
    "collapsed": false
   }
  },
  {
   "cell_type": "markdown",
   "source": [
    "Create 4x3 array of zeroes"
   ],
   "metadata": {
    "collapsed": false
   }
  },
  {
   "cell_type": "code",
   "execution_count": null,
   "outputs": [],
   "source": [
    "arr = np.ones((4,3), dtype=int)\n",
    "print(arr)"
   ],
   "metadata": {
    "collapsed": false
   }
  },
  {
   "cell_type": "markdown",
   "source": [
    "Create array of integers between 3 to 7"
   ],
   "metadata": {
    "collapsed": false
   }
  },
  {
   "cell_type": "code",
   "execution_count": null,
   "outputs": [],
   "source": [
    "arr = np.arange(4,7)\n",
    "print(arr)"
   ],
   "metadata": {
    "collapsed": false
   }
  },
  {
   "cell_type": "markdown",
   "source": [
    "Create an array of integers from 5 to 20 with a step of 2"
   ],
   "metadata": {
    "collapsed": false
   }
  },
  {
   "cell_type": "code",
   "execution_count": null,
   "outputs": [],
   "source": [
    "arr = np.arange(5,21,2)\n",
    "print(arr)"
   ],
   "metadata": {
    "collapsed": false
   }
  },
  {
   "cell_type": "markdown",
   "source": [
    "Create an array of random integers of size 10"
   ],
   "metadata": {
    "collapsed": false
   }
  },
  {
   "cell_type": "code",
   "execution_count": null,
   "outputs": [],
   "source": [
    "arr = np.random.randint(5,size=10)\n",
    "print(arr)"
   ],
   "metadata": {
    "collapsed": false
   }
  },
  {
   "cell_type": "markdown",
   "source": [
    "Create an array of random integers between 6 and 9 of size 10"
   ],
   "metadata": {
    "collapsed": false
   }
  },
  {
   "cell_type": "code",
   "execution_count": null,
   "outputs": [],
   "source": [
    "arr = np.random.randint(7,9,size=10)\n",
    "print(arr)"
   ],
   "metadata": {
    "collapsed": false
   }
  },
  {
   "cell_type": "markdown",
   "source": [
    "Create 2x3 2D array of random numbers"
   ],
   "metadata": {
    "collapsed": false
   }
  },
  {
   "cell_type": "code",
   "execution_count": null,
   "outputs": [],
   "source": [
    "arr = np.random.random([2,3])\n",
    "print(arr)"
   ],
   "metadata": {
    "collapsed": false
   }
  },
  {
   "cell_type": "markdown",
   "source": [
    "Create an array of size 10 between 1.5 and 2"
   ],
   "metadata": {
    "collapsed": false
   }
  },
  {
   "cell_type": "code",
   "execution_count": null,
   "outputs": [],
   "source": [
    "arr = np.linspace(1.5,2,10)\n",
    "print(arr)"
   ],
   "metadata": {
    "collapsed": false
   }
  },
  {
   "cell_type": "markdown",
   "source": [
    "That's all for the basic ways of creating arrays. You can also explore these other 4 ways to create arrays as well\n",
    "\n",
    "- [.full()](https://numpy.org/doc/stable/reference/generated/numpy.full.html): Create a constant array of any number ‘n’\n",
    "- [.tile()](https://numpy.org/doc/stable/reference/generated/numpy.tile.html): Create a new array by repeating an existing array for a particular number of times\n",
    "- [.eye()](https://numpy.org/doc/stable/reference/generated/numpy.eye.html): Create an identity matrix of any dimension\n",
    "- [.random.randint()](https://numpy.org/doc/stable/reference/random/generated/numpy.random.randint.html): Create a random array of integers within a particular range\n",
    "\n",
    "### Basic Operations\n",
    "\n",
    "NumPy can perform variety of operation, the very basics one include, addition, subtraction, and multiplication. Below are the few basic operations that can be done in numpy without using loops.\n",
    "\n",
    "**Create** a NumPy array to store marks of 5 students."
   ],
   "metadata": {
    "collapsed": false
   }
  },
  {
   "cell_type": "markdown",
   "source": [],
   "metadata": {
    "collapsed": false
   }
  },
  {
   "cell_type": "code",
   "execution_count": null,
   "outputs": [],
   "source": [
    "marks = [1, 2, 3, 4, 5]\n",
    "marks_np = np.array(marks)\n",
    "print(marks_np)"
   ],
   "metadata": {
    "collapsed": false
   }
  },
  {
   "cell_type": "markdown",
   "source": [
    "**Add** marks of 5 subjects of two different students."
   ],
   "metadata": {
    "collapsed": false
   }
  },
  {
   "cell_type": "code",
   "execution_count": null,
   "outputs": [],
   "source": [
    "marks_A = [10,20,10,20,14]\n",
    "marks_B = [23,12,43,12,43]\n",
    "\n",
    "marks_np_A = np.array(marks_A)\n",
    "marks_np_B = np.array(marks_B)\n",
    "\n",
    "total = marks_np_A + marks_np_B # Add using + operator\n",
    "print(total)"
   ],
   "metadata": {
    "collapsed": false
   }
  },
  {
   "cell_type": "markdown",
   "source": [
    "**Convert** weight of 5 students from kg to gram"
   ],
   "metadata": {
    "collapsed": false
   }
  },
  {
   "cell_type": "code",
   "execution_count": null,
   "outputs": [],
   "source": [
    "weight = [45, 55, 53, 63, 60] # In KG\n",
    "weight_np = np.array(weight)\n",
    "\n",
    "weight_in_gram = weight_np * 1000 # 1kg = 1000gm\n",
    "print(weight_in_gram)"
   ],
   "metadata": {
    "collapsed": false
   }
  },
  {
   "cell_type": "markdown",
   "source": [
    "**Calculate** the BMI of 5 students. To calculate BMI we need\n",
    "\n",
    "- Two arrays of height and weight\n",
    "- Apply the formulae **weight_in_kg / (height_in_m ** 2)**"
   ],
   "metadata": {
    "collapsed": false
   }
  },
  {
   "cell_type": "code",
   "execution_count": 28,
   "outputs": [],
   "source": [
    "heights_in_inch = [71,72,73,74,75]\n",
    "weights_in_lbs = [195, 180, 250, 230, 200]"
   ],
   "metadata": {
    "collapsed": false
   }
  },
  {
   "cell_type": "markdown",
   "source": [
    "First let's convert height from inch to meter and weight lbs to kg"
   ],
   "metadata": {
    "collapsed": false
   }
  },
  {
   "cell_type": "code",
   "execution_count": 29,
   "outputs": [],
   "source": [
    "height_in_m = np.array(heights_in_inch) * 0.0254\n",
    "weight_in_kg = np.array(weights_in_lbs) * 0.453592"
   ],
   "metadata": {
    "collapsed": false
   }
  },
  {
   "cell_type": "markdown",
   "source": [
    "Now, we have converted array into the right units, let's calculate BMI"
   ],
   "metadata": {
    "collapsed": false
   }
  },
  {
   "cell_type": "code",
   "execution_count": 30,
   "outputs": [
    {
     "name": "stdout",
     "output_type": "stream",
     "text": [
      "BMI [27.19667848 24.41211827 32.98315848 29.52992539 24.99800911]\n"
     ]
    }
   ],
   "source": [
    "BMI = weight_in_kg / (height_in_m ** 2)\n",
    "print(\"BMI\",BMI)"
   ],
   "metadata": {
    "collapsed": false
   }
  },
  {
   "cell_type": "markdown",
   "source": [
    "Here is a list of 5 common basic functions in numpy ndarray:\n",
    "\n",
    "- [.sum](https://numpy.org/doc/stable/reference/generated/numpy.sum.html#numpy.sum): returns sum of elements over a given axis\n",
    "- [.min](https://numpy.org/doc/stable/reference/generated/numpy.ndarray.min.html): return minimum number along a given axis.\n",
    "- [.max](https://numpy.org/doc/stable/reference/generated/numpy.ndarray.max.html): return maximum number along a given axis.\n",
    "- [.cumsum](https://numpy.org/doc/stable/reference/generated/numpy.ndarray.cumsum.html): return cumulative sum of elements along a given axis.\n",
    "- [.mean](https://numpy.org/doc/stable/reference/generated/numpy.ndarray.mean.html): return average of elements along a given axis.\n",
    "\n",
    "NumPy also provides universal functions like **sin**, **cos**, and **exp**, these are also called **[ufunc](https://numpy.org/doc/stable/reference/ufuncs.html)**.\n",
    "\n",
    "### Indexing, Slicing and Iterating"
   ],
   "metadata": {
    "collapsed": false
   }
  },
  {
   "cell_type": "code",
   "execution_count": 31,
   "outputs": [],
   "source": [
    "bmi_first_element = BMI[0] #First Element\n",
    "bmi_last_element = BMI[1] # second element\n",
    "bmi_first_five_elements = BMI[0:5] # elements 1-5\n",
    "bmi_last_five_elements = BMI[-1:] # elements 1-5 from the last"
   ],
   "metadata": {
    "collapsed": false
   }
  },
  {
   "cell_type": "markdown",
   "source": [
    "Filter BMI array where BMI > 23"
   ],
   "metadata": {
    "collapsed": false
   }
  },
  {
   "cell_type": "code",
   "execution_count": 32,
   "outputs": [
    {
     "name": "stdout",
     "output_type": "stream",
     "text": [
      "[27.19667848 24.41211827 32.98315848 29.52992539 24.99800911]\n"
     ]
    }
   ],
   "source": [
    "# Conditional Filter\n",
    "\n",
    "BMI_filtered = BMI[BMI > 23]\n",
    "print(BMI_filtered)"
   ],
   "metadata": {
    "collapsed": false
   }
  },
  {
   "cell_type": "markdown",
   "source": [
    "Now you know the basics to work with a numpy array and you should be able to create arrays and perform operations on it.\n",
    "\n"
   ],
   "metadata": {
    "collapsed": false
   }
  },
  {
   "cell_type": "code",
   "execution_count": null,
   "outputs": [],
   "source": [],
   "metadata": {
    "collapsed": false,
    "pycharm": {
     "is_executing": true
    }
   }
  },
  {
   "cell_type": "code",
   "execution_count": 32,
   "outputs": [],
   "source": [],
   "metadata": {
    "collapsed": false
   }
  },
  {
   "cell_type": "code",
   "execution_count": 32,
   "outputs": [],
   "source": [],
   "metadata": {
    "collapsed": false
   }
  },
  {
   "cell_type": "code",
   "execution_count": 32,
   "outputs": [],
   "source": [],
   "metadata": {
    "collapsed": false
   }
  }
 ],
 "metadata": {
  "kernelspec": {
   "display_name": "Python 3 (ipykernel)",
   "language": "python",
   "name": "python3"
  },
  "language_info": {
   "codemirror_mode": {
    "name": "ipython",
    "version": 3
   },
   "file_extension": ".py",
   "mimetype": "text/x-python",
   "name": "python",
   "nbconvert_exporter": "python",
   "pygments_lexer": "ipython3",
   "version": "3.8.10"
  }
 },
 "nbformat": 4,
 "nbformat_minor": 5
}
